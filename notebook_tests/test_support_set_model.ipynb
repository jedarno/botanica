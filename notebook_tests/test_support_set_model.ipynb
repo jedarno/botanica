{
 "cells": [
  {
   "cell_type": "code",
   "execution_count": 7,
   "id": "c3fcbb0f-ca4c-4533-817b-6379794e1f39",
   "metadata": {},
   "outputs": [
    {
     "name": "stdout",
     "output_type": "stream",
     "text": [
      "/Users/ja/botanica\n"
     ]
    }
   ],
   "source": [
    "cd ../.."
   ]
  },
  {
   "cell_type": "code",
   "execution_count": 8,
   "id": "bd190c62-9e90-4d67-a41e-ccbfc79f11b7",
   "metadata": {},
   "outputs": [
    {
     "name": "stdout",
     "output_type": "stream",
     "text": [
      "/Users/ja/botanica\n"
     ]
    }
   ],
   "source": [
    "!pwd"
   ]
  },
  {
   "cell_type": "code",
   "execution_count": 9,
   "id": "6658608b-2b55-4ecf-b6de-0b7778c81c2e",
   "metadata": {},
   "outputs": [],
   "source": [
    "import torch\n",
    "import torch.nn as nn\n",
    "from torchvision import models \n",
    "from torchinfo import summary\n",
    "from torchvision import transforms as T\n",
    "\n",
    "from data.datasets import BinaryFewShot\n",
    "from transformer.architecture import SiameseFewShot"
   ]
  },
  {
   "cell_type": "code",
   "execution_count": 10,
   "id": "89b3f8b2-30f9-452e-89d6-e825f972a6ab",
   "metadata": {},
   "outputs": [],
   "source": [
    "IMAGE_HEIGHT = 224\n",
    "IMAGE_WIDTH = 224\n",
    "IMAGE_SIZE = (IMAGE_HEIGHT, IMAGE_WIDTH)\n",
    "EPOCHS = 10 #\"Don't forget to define me!\"\n",
    "train_dir = \"toy_data/\"\n",
    "transforms = T.Compose([\n",
    "            T.RandomHorizontalFlip(),\n",
    "            T.RandomVerticalFlip(),\n",
    "            T.RandomApply(torch.nn.ModuleList([T.ColorJitter()]), p=0.25),\n",
    "            T.Resize(256),\n",
    "            T.CenterCrop(224),\n",
    "            T.ToTensor(),\n",
    "            T.RandomErasing(p=0.1, value='random')\n",
    "        ])\n",
    "trainset = BinaryFewShot(train_dir, transform = transforms)\n",
    "trainloader = torch.utils.data.DataLoader(trainset, batch_size=16, num_workers=1)"
   ]
  },
  {
   "cell_type": "code",
   "execution_count": 11,
   "id": "6dcd3856-c93e-4b2c-ac94-e3d88f825aab",
   "metadata": {},
   "outputs": [],
   "source": [
    "encoder = models.resnet18(weights=models.ResNet18_Weights.IMAGENET1K_V1)\n",
    "dist_func = torch.cdist"
   ]
  },
  {
   "cell_type": "code",
   "execution_count": 12,
   "id": "4210cc1f-beae-4bd2-af64-010ec8b5c735",
   "metadata": {},
   "outputs": [],
   "source": [
    "model = SiameseFewShot(encoder, dist_func)"
   ]
  },
  {
   "cell_type": "code",
   "execution_count": 15,
   "id": "03a8c9ed-8472-41af-b11b-cf71e7a83478",
   "metadata": {},
   "outputs": [],
   "source": [
    "query_set, support_set1, support_set2 = trainset.__getitem__(0)"
   ]
  },
  {
   "cell_type": "code",
   "execution_count": 16,
   "id": "edbc3ffc-da0b-4766-b188-4627ab19280d",
   "metadata": {},
   "outputs": [
    {
     "data": {
      "text/plain": [
       "3"
      ]
     },
     "execution_count": 16,
     "metadata": {},
     "output_type": "execute_result"
    }
   ],
   "source": [
    "len(query_set)"
   ]
  },
  {
   "cell_type": "code",
   "execution_count": 18,
   "id": "65cabdd0-50bc-4f18-97a3-cef864c90ae1",
   "metadata": {},
   "outputs": [
    {
     "data": {
      "text/plain": [
       "3"
      ]
     },
     "execution_count": 18,
     "metadata": {},
     "output_type": "execute_result"
    }
   ],
   "source": [
    "len(support_set1)"
   ]
  },
  {
   "cell_type": "code",
   "execution_count": null,
   "id": "58a06b16-6c0b-4dfb-8a9e-bf40bb2cccd8",
   "metadata": {},
   "outputs": [],
   "source": []
  }
 ],
 "metadata": {
  "kernelspec": {
   "display_name": "botanica",
   "language": "python",
   "name": "botanica"
  },
  "language_info": {
   "codemirror_mode": {
    "name": "ipython",
    "version": 3
   },
   "file_extension": ".py",
   "mimetype": "text/x-python",
   "name": "python",
   "nbconvert_exporter": "python",
   "pygments_lexer": "ipython3",
   "version": "3.12.10"
  }
 },
 "nbformat": 4,
 "nbformat_minor": 5
}
